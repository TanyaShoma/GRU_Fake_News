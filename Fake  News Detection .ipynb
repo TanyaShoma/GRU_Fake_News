{
 "cells": [
  {
   "cell_type": "markdown",
   "id": "1386e887",
   "metadata": {},
   "source": [
    "<div style=\"background-color: #cce5ff; border-left: 5px solid #cce5ff; padding: 10px;\">\n",
    "    <h1 align=\"center\">Deep Learning in Python</h1>\n",
    "    <h2 align=\"center\">NLP Fake News Detection</h2>\n",
    "  \n",
    "</div>"
   ]
  },
  {
   "cell_type": "markdown",
   "id": "9d78b181",
   "metadata": {},
   "source": [
    "# Introduction\n",
    "\n",
    "Fake news detection is a critical application of Natural Language Processing (NLP), a subfield of artificial intelligence that enables machines to understand, interpret, and analyze human language. By combining computational linguistics and machine learning techniques, NLP can process vast amounts of text to extract meaningful information, classify documents, and generate insights. In today's digital age, where information is rapidly disseminated across platforms, distinguishing between genuine and misleading content has become increasingly important. NLP offers powerful tools to address this challenge, with applications ranging from sentiment analysis and chatbots to fake news detection.\n",
    "\n",
    "Fake news, often spread through social media, poses significant threats by misinforming the public and influencing opinions on critical issues such as politics, health, and global events. The detection of fake news is not only important for maintaining the integrity of news sources but also for fostering a well-informed society. By leveraging NLP techniques, it is possible to analyze linguistic patterns, writing styles, and content features that differentiate fake news from legitimate news.\n",
    "\n",
    " \n",
    "\n",
    "# Objective\n",
    "\n",
    "This project aims to apply NLP techniques to classify news articles as either legit or fake using advanced neural networks such as GRU. By utilizing a labeled dataset of fake and legitimate news articles from Kaggle, the project will develop a classification model that accurately distinguishes between the two categories.  The dataset for this project can be downloaded from the following link: https://www.kaggle.com/c/fake-news/data.\n",
    "\n"
   ]
  },
  {
   "cell_type": "code",
   "execution_count": null,
   "id": "fadeb146",
   "metadata": {},
   "outputs": [],
   "source": []
  },
  {
   "cell_type": "markdown",
   "id": "d516c3da",
   "metadata": {},
   "source": [
    "# Exploratory Data Analysis (EDA)"
   ]
  },
  {
   "cell_type": "markdown",
   "id": "6ad780d8",
   "metadata": {},
   "source": [
    "Before diving into model building, it's essential to understand the structure and characteristics of the data.\n",
    "\n",
    "###  Data Overview\n",
    "\n",
    "The dataset contains:\n",
    "train.csv: A training dataset with the following attributes:\n",
    "\n",
    "id: unique id for a news article\n",
    "\n",
    "title: the title of a news article\n",
    "\n",
    "author: author of the news article\n",
    "\n",
    "text: the text of the article; could be incomplete\n",
    "\n",
    "label: a label that marks the article as potentially unreliable\n",
    "\n",
    "1: unreliable\n",
    "\n",
    "0: reliable\n",
    "\n",
    "test.csv: A testing training dataset with all the same attributes at train.csv without the label."
   ]
  },
  {
   "cell_type": "markdown",
   "id": "81017314",
   "metadata": {},
   "source": [
    "## Loading Data\n",
    "\n",
    "The dataset contains two files, train.csv and test.csv.\n"
   ]
  },
  {
   "cell_type": "code",
   "execution_count": 4,
   "id": "be24a819",
   "metadata": {},
   "outputs": [
    {
     "name": "stdout",
     "output_type": "stream",
     "text": [
      "<class 'pandas.core.frame.DataFrame'>\n",
      "RangeIndex: 20800 entries, 0 to 20799\n",
      "Data columns (total 5 columns):\n",
      " #   Column  Non-Null Count  Dtype \n",
      "---  ------  --------------  ----- \n",
      " 0   id      20800 non-null  int64 \n",
      " 1   title   20242 non-null  object\n",
      " 2   author  18843 non-null  object\n",
      " 3   text    20761 non-null  object\n",
      " 4   label   20800 non-null  int64 \n",
      "dtypes: int64(2), object(3)\n",
      "memory usage: 812.6+ KB\n"
     ]
    }
   ],
   "source": [
    "\n",
    "import pandas as pd\n",
    "\n",
    "df_train = pd.read_csv('train.csv')\n",
    "df_test = pd.read_csv('test.csv')\n",
    "\n",
    "# Display basic information and structure\n",
    "df_train.info()"
   ]
  },
  {
   "cell_type": "code",
   "execution_count": 5,
   "id": "2ad7a52a",
   "metadata": {},
   "outputs": [
    {
     "name": "stdout",
     "output_type": "stream",
     "text": [
      "<class 'pandas.core.frame.DataFrame'>\n",
      "RangeIndex: 5200 entries, 0 to 5199\n",
      "Data columns (total 4 columns):\n",
      " #   Column  Non-Null Count  Dtype \n",
      "---  ------  --------------  ----- \n",
      " 0   id      5200 non-null   int64 \n",
      " 1   title   5078 non-null   object\n",
      " 2   author  4697 non-null   object\n",
      " 3   text    5193 non-null   object\n",
      "dtypes: int64(1), object(3)\n",
      "memory usage: 162.6+ KB\n"
     ]
    }
   ],
   "source": [
    "df_test.info()"
   ]
  },
  {
   "cell_type": "code",
   "execution_count": 6,
   "id": "ca9a5a51",
   "metadata": {},
   "outputs": [
    {
     "data": {
      "text/html": [
       "<div>\n",
       "<style scoped>\n",
       "    .dataframe tbody tr th:only-of-type {\n",
       "        vertical-align: middle;\n",
       "    }\n",
       "\n",
       "    .dataframe tbody tr th {\n",
       "        vertical-align: top;\n",
       "    }\n",
       "\n",
       "    .dataframe thead th {\n",
       "        text-align: right;\n",
       "    }\n",
       "</style>\n",
       "<table border=\"1\" class=\"dataframe\">\n",
       "  <thead>\n",
       "    <tr style=\"text-align: right;\">\n",
       "      <th></th>\n",
       "      <th>id</th>\n",
       "      <th>title</th>\n",
       "      <th>author</th>\n",
       "      <th>text</th>\n",
       "      <th>label</th>\n",
       "    </tr>\n",
       "  </thead>\n",
       "  <tbody>\n",
       "    <tr>\n",
       "      <th>20795</th>\n",
       "      <td>20795</td>\n",
       "      <td>Rapper T.I.: Trump a ’Poster Child For White S...</td>\n",
       "      <td>Jerome Hudson</td>\n",
       "      <td>Rapper T. I. unloaded on black celebrities who...</td>\n",
       "      <td>0</td>\n",
       "    </tr>\n",
       "    <tr>\n",
       "      <th>20796</th>\n",
       "      <td>20796</td>\n",
       "      <td>N.F.L. Playoffs: Schedule, Matchups and Odds -...</td>\n",
       "      <td>Benjamin Hoffman</td>\n",
       "      <td>When the Green Bay Packers lost to the Washing...</td>\n",
       "      <td>0</td>\n",
       "    </tr>\n",
       "    <tr>\n",
       "      <th>20797</th>\n",
       "      <td>20797</td>\n",
       "      <td>Macy’s Is Said to Receive Takeover Approach by...</td>\n",
       "      <td>Michael J. de la Merced and Rachel Abrams</td>\n",
       "      <td>The Macy’s of today grew from the union of sev...</td>\n",
       "      <td>0</td>\n",
       "    </tr>\n",
       "    <tr>\n",
       "      <th>20798</th>\n",
       "      <td>20798</td>\n",
       "      <td>NATO, Russia To Hold Parallel Exercises In Bal...</td>\n",
       "      <td>Alex Ansary</td>\n",
       "      <td>NATO, Russia To Hold Parallel Exercises In Bal...</td>\n",
       "      <td>1</td>\n",
       "    </tr>\n",
       "    <tr>\n",
       "      <th>20799</th>\n",
       "      <td>20799</td>\n",
       "      <td>What Keeps the F-35 Alive</td>\n",
       "      <td>David Swanson</td>\n",
       "      <td>David Swanson is an author, activist, journa...</td>\n",
       "      <td>1</td>\n",
       "    </tr>\n",
       "  </tbody>\n",
       "</table>\n",
       "</div>"
      ],
      "text/plain": [
       "          id                                              title  \\\n",
       "20795  20795  Rapper T.I.: Trump a ’Poster Child For White S...   \n",
       "20796  20796  N.F.L. Playoffs: Schedule, Matchups and Odds -...   \n",
       "20797  20797  Macy’s Is Said to Receive Takeover Approach by...   \n",
       "20798  20798  NATO, Russia To Hold Parallel Exercises In Bal...   \n",
       "20799  20799                          What Keeps the F-35 Alive   \n",
       "\n",
       "                                          author  \\\n",
       "20795                              Jerome Hudson   \n",
       "20796                           Benjamin Hoffman   \n",
       "20797  Michael J. de la Merced and Rachel Abrams   \n",
       "20798                                Alex Ansary   \n",
       "20799                              David Swanson   \n",
       "\n",
       "                                                    text  label  \n",
       "20795  Rapper T. I. unloaded on black celebrities who...      0  \n",
       "20796  When the Green Bay Packers lost to the Washing...      0  \n",
       "20797  The Macy’s of today grew from the union of sev...      0  \n",
       "20798  NATO, Russia To Hold Parallel Exercises In Bal...      1  \n",
       "20799    David Swanson is an author, activist, journa...      1  "
      ]
     },
     "execution_count": 6,
     "metadata": {},
     "output_type": "execute_result"
    }
   ],
   "source": [
    "df_train.tail()"
   ]
  },
  {
   "cell_type": "code",
   "execution_count": 7,
   "id": "e43257c5",
   "metadata": {},
   "outputs": [
    {
     "data": {
      "text/html": [
       "<div>\n",
       "<style scoped>\n",
       "    .dataframe tbody tr th:only-of-type {\n",
       "        vertical-align: middle;\n",
       "    }\n",
       "\n",
       "    .dataframe tbody tr th {\n",
       "        vertical-align: top;\n",
       "    }\n",
       "\n",
       "    .dataframe thead th {\n",
       "        text-align: right;\n",
       "    }\n",
       "</style>\n",
       "<table border=\"1\" class=\"dataframe\">\n",
       "  <thead>\n",
       "    <tr style=\"text-align: right;\">\n",
       "      <th></th>\n",
       "      <th>id</th>\n",
       "      <th>title</th>\n",
       "      <th>author</th>\n",
       "      <th>text</th>\n",
       "    </tr>\n",
       "  </thead>\n",
       "  <tbody>\n",
       "    <tr>\n",
       "      <th>5195</th>\n",
       "      <td>25995</td>\n",
       "      <td>The Bangladeshi Traffic Jam That Never Ends - ...</td>\n",
       "      <td>Jody Rosen</td>\n",
       "      <td>Of all the dysfunctions that plague the world’...</td>\n",
       "    </tr>\n",
       "    <tr>\n",
       "      <th>5196</th>\n",
       "      <td>25996</td>\n",
       "      <td>John Kasich Signs One Abortion Bill in Ohio bu...</td>\n",
       "      <td>Sheryl Gay Stolberg</td>\n",
       "      <td>WASHINGTON  —   Gov. John Kasich of Ohio on Tu...</td>\n",
       "    </tr>\n",
       "    <tr>\n",
       "      <th>5197</th>\n",
       "      <td>25997</td>\n",
       "      <td>California Today: What, Exactly, Is in Your Su...</td>\n",
       "      <td>Mike McPhate</td>\n",
       "      <td>Good morning. (Want to get California Today by...</td>\n",
       "    </tr>\n",
       "    <tr>\n",
       "      <th>5198</th>\n",
       "      <td>25998</td>\n",
       "      <td>300 US Marines To Be Deployed To Russian Borde...</td>\n",
       "      <td>NaN</td>\n",
       "      <td>« Previous - Next » 300 US Marines To Be Deplo...</td>\n",
       "    </tr>\n",
       "    <tr>\n",
       "      <th>5199</th>\n",
       "      <td>25999</td>\n",
       "      <td>Awkward Sex, Onscreen and Off - The New York T...</td>\n",
       "      <td>Teddy Wayne</td>\n",
       "      <td>Perhaps you’ve seen the new TV series whose pi...</td>\n",
       "    </tr>\n",
       "  </tbody>\n",
       "</table>\n",
       "</div>"
      ],
      "text/plain": [
       "         id                                              title  \\\n",
       "5195  25995  The Bangladeshi Traffic Jam That Never Ends - ...   \n",
       "5196  25996  John Kasich Signs One Abortion Bill in Ohio bu...   \n",
       "5197  25997  California Today: What, Exactly, Is in Your Su...   \n",
       "5198  25998  300 US Marines To Be Deployed To Russian Borde...   \n",
       "5199  25999  Awkward Sex, Onscreen and Off - The New York T...   \n",
       "\n",
       "                   author                                               text  \n",
       "5195           Jody Rosen  Of all the dysfunctions that plague the world’...  \n",
       "5196  Sheryl Gay Stolberg  WASHINGTON  —   Gov. John Kasich of Ohio on Tu...  \n",
       "5197         Mike McPhate  Good morning. (Want to get California Today by...  \n",
       "5198                  NaN  « Previous - Next » 300 US Marines To Be Deplo...  \n",
       "5199          Teddy Wayne  Perhaps you’ve seen the new TV series whose pi...  "
      ]
     },
     "execution_count": 7,
     "metadata": {},
     "output_type": "execute_result"
    }
   ],
   "source": [
    "df_test.tail()"
   ]
  },
  {
   "cell_type": "code",
   "execution_count": 8,
   "id": "0a358081",
   "metadata": {},
   "outputs": [
    {
     "data": {
      "text/plain": [
       "id           0\n",
       "title      558\n",
       "author    1957\n",
       "text        39\n",
       "label        0\n",
       "dtype: int64"
      ]
     },
     "execution_count": 8,
     "metadata": {},
     "output_type": "execute_result"
    }
   ],
   "source": [
    "# Missing value\n",
    "# Check if the dataset contains missing values\n",
    "df_train.isnull().sum()"
   ]
  },
  {
   "cell_type": "code",
   "execution_count": 9,
   "id": "1ea164d9",
   "metadata": {},
   "outputs": [
    {
     "data": {
      "text/plain": [
       "id          0\n",
       "title     122\n",
       "author    503\n",
       "text        7\n",
       "dtype: int64"
      ]
     },
     "execution_count": 9,
     "metadata": {},
     "output_type": "execute_result"
    }
   ],
   "source": [
    "df_test.isnull().sum()"
   ]
  },
  {
   "cell_type": "markdown",
   "id": "25fe8fe0",
   "metadata": {},
   "source": [
    "the train file has 20800 entries with 39 text missing values, the test file has 5200 entries with 7 text missing values. For this analysis, the fake news detection models on the content of the article, so it important to delete any entry with missing text in the train and test files."
   ]
  },
  {
   "cell_type": "code",
   "execution_count": 10,
   "id": "aa9f1689",
   "metadata": {},
   "outputs": [
    {
     "name": "stdout",
     "output_type": "stream",
     "text": [
      "<class 'pandas.core.frame.DataFrame'>\n",
      "Int64Index: 20761 entries, 0 to 20799\n",
      "Data columns (total 5 columns):\n",
      " #   Column  Non-Null Count  Dtype \n",
      "---  ------  --------------  ----- \n",
      " 0   id      20761 non-null  int64 \n",
      " 1   title   20203 non-null  object\n",
      " 2   author  18843 non-null  object\n",
      " 3   text    20761 non-null  object\n",
      " 4   label   20761 non-null  int64 \n",
      "dtypes: int64(2), object(3)\n",
      "memory usage: 973.2+ KB\n",
      "None\n"
     ]
    }
   ],
   "source": [
    "## Delete rows with missing value on the text field\n",
    "\n",
    "\n",
    "# Drop rows where the \"text\" field has missing values\n",
    "train = df_train.dropna(subset=['text'])\n",
    "\n",
    "# Display the cleaned dataframe\n",
    "print(train.info())\n"
   ]
  },
  {
   "cell_type": "code",
   "execution_count": 11,
   "id": "a49e0307",
   "metadata": {},
   "outputs": [
    {
     "name": "stdout",
     "output_type": "stream",
     "text": [
      "<class 'pandas.core.frame.DataFrame'>\n",
      "Int64Index: 5193 entries, 0 to 5199\n",
      "Data columns (total 4 columns):\n",
      " #   Column  Non-Null Count  Dtype \n",
      "---  ------  --------------  ----- \n",
      " 0   id      5193 non-null   int64 \n",
      " 1   title   5071 non-null   object\n",
      " 2   author  4697 non-null   object\n",
      " 3   text    5193 non-null   object\n",
      "dtypes: int64(1), object(3)\n",
      "memory usage: 202.9+ KB\n",
      "None\n"
     ]
    }
   ],
   "source": [
    "## Delete rows with missing value on the text field\n",
    "\n",
    "\n",
    "# Drop rows where the \"text\" field has missing values\n",
    "test = df_test.dropna(subset=['text'])\n",
    "\n",
    "# Display the cleaned dataframe\n",
    "print(test.info())"
   ]
  },
  {
   "cell_type": "markdown",
   "id": "d2719127",
   "metadata": {},
   "source": [
    "### Real Vs Fake news distribution from the train dataframe"
   ]
  },
  {
   "cell_type": "code",
   "execution_count": 14,
   "id": "1d93d3ad",
   "metadata": {},
   "outputs": [
    {
     "name": "stdout",
     "output_type": "stream",
     "text": [
      "Number of Real News: 10387\n",
      "Number of Fake News: 10374\n"
     ]
    }
   ],
   "source": [
    "# Print the number of real and fake news\n",
    "print(\"Number of Real News:\", train[train['label'] == 0].shape[0])\n",
    "print(\"Number of Fake News:\", train[train['label'] == 1].shape[0])"
   ]
  },
  {
   "cell_type": "code",
   "execution_count": 13,
   "id": "aee70ace",
   "metadata": {},
   "outputs": [
    {
     "data": {
      "image/png": "[encoded data removed]",
      "text/plain": [
       "<Figure size 432x288 with 1 Axes>"
      ]
     },
     "metadata": {
      "needs_background": "light"
     },
     "output_type": "display_data"
    }
   ],
   "source": [
    "import matplotlib.pyplot as plt\n",
    "import seaborn as sns\n",
    "\n",
    "sns.countplot(x='label', data=train)\n",
    "plt.title('Target Distribution: real vs fake news')\n",
    "plt.show()"
   ]
  },
  {
   "cell_type": "code",
   "execution_count": 16,
   "id": "0d259b9e",
   "metadata": {},
   "outputs": [
    {
     "data": {
      "image/png": "[encoded data removed]",
      "text/plain": [
       "<Figure size 432x432 with 1 Axes>"
      ]
     },
     "metadata": {},
     "output_type": "display_data"
    }
   ],
   "source": [
    "# Count the number of real and fake news\n",
    "news_counts = train['label'].value_counts()\n",
    "\n",
    "# Labels for the pie chart\n",
    "labels = ['Real', 'Fake']\n",
    "\n",
    "# Values for the pie chart\n",
    "sizes = news_counts\n",
    "\n",
    "# Plot the pie chart\n",
    "plt.figure(figsize=(6, 6))\n",
    "plt.pie(sizes, labels=labels, autopct='%1.1f%%', startangle=90, colors=['lightblue', 'orange'], explode=(0, 0.1))\n",
    "\n",
    "# Equal aspect ratio ensures that pie is drawn as a circle\n",
    "plt.axis('equal')\n",
    "plt.title('Percentage of Real vs Fake News')\n",
    "plt.show()"
   ]
  },
  {
   "cell_type": "markdown",
   "id": "c6a45312",
   "metadata": {},
   "source": [
    "From the above plot, we notice that our data is balanced, we have 10387 real news vs 10374 fake news which reprensent 50% of real news vs % 50 % of fake news."
   ]
  },
  {
   "cell_type": "markdown",
   "id": "f916ccc8",
   "metadata": {},
   "source": [
    "## Sentiment Analysis"
   ]
  },
  {
   "cell_type": "code",
   "execution_count": 19,
   "id": "050e67df",
   "metadata": {},
   "outputs": [
    {
     "name": "stderr",
     "output_type": "stream",
     "text": [
      "C:\\conda_tmp\\ipykernel_37068\\4080482383.py:7: SettingWithCopyWarning: \n",
      "A value is trying to be set on a copy of a slice from a DataFrame.\n",
      "Try using .loc[row_indexer,col_indexer] = value instead\n",
      "\n",
      "See the caveats in the documentation: https://pandas.pydata.org/pandas-docs/stable/user_guide/indexing.html#returning-a-view-versus-a-copy\n",
      "  train['polarity'] = train['text'].apply(lambda x: TextBlob(x).sentiment.polarity)\n"
     ]
    },
    {
     "data": {
      "image/png": "[encoded data removed]",
      "text/plain": [
       "<Figure size 864x432 with 2 Axes>"
      ]
     },
     "metadata": {
      "needs_background": "light"
     },
     "output_type": "display_data"
    }
   ],
   "source": [
    "# Import necessary libraries\n",
    "from textblob import TextBlob\n",
    "import matplotlib.pyplot as plt\n",
    "\n",
    "# If polarity isn't already calculated, we compute it here\n",
    "# Apply TextBlob sentiment analysis to calculate polarity for both fake and real news\n",
    "train['polarity'] = train['text'].apply(lambda x: TextBlob(x).sentiment.polarity)\n",
    "\n",
    "# Separate Real and Fake news\n",
    "Fake_news = train[train['label'] == 1]\n",
    "Real_news = train[train['label'] == 0]\n",
    "\n",
    "# Plotting sentiment polarity distributions\n",
    "plt.figure(figsize=(12, 6))\n",
    "\n",
    "# Fake News\n",
    "plt.subplot(1, 2, 1)\n",
    "plt.hist(Fake_news['polarity'], bins=20, color='red', alpha=0.7, edgecolor='black')\n",
    "plt.title('Sentiment Polarity for Fake News')\n",
    "plt.xlabel('Sentiment Polarity')\n",
    "plt.ylabel('Frequency')\n",
    "plt.axvline(x=0, color='black', linestyle='--')  # Vertical line at polarity 0\n",
    "plt.grid(axis='y')\n",
    "\n",
    "# Real News\n",
    "plt.subplot(1, 2, 2)\n",
    "plt.hist(Real_news['polarity'], bins=20, color='green', alpha=0.7, edgecolor='black')\n",
    "plt.title('Sentiment Polarity for Real News')\n",
    "plt.xlabel('Sentiment Polarity')\n",
    "plt.axvline(x=0, color='black', linestyle='--')  # Vertical line at polarity 0\n",
    "plt.grid(axis='y')\n",
    "\n",
    "plt.tight_layout()\n",
    "plt.show()\n"
   ]
  },
  {
   "cell_type": "markdown",
   "id": "2392353d",
   "metadata": {},
   "source": [
    " ## N-grams Analysis\n",
    "Analyze the most common unigrams, bigrams, or trigrams in the tweets."
   ]
  },
  {
   "cell_type": "code",
   "execution_count": 21,
   "id": "00570be8",
   "metadata": {},
   "outputs": [
    {
     "data": {
      "image/png": "[encoded data removed]",
      "text/plain": [
       "<Figure size 432x288 with 1 Axes>"
      ]
     },
     "metadata": {
      "needs_background": "light"
     },
     "output_type": "display_data"
    }
   ],
   "source": [
    "from sklearn.feature_extraction.text import CountVectorizer\n",
    "import matplotlib.pyplot as plt\n",
    "import pandas as pd\n",
    "\n",
    "# Separate real news\n",
    "Real_news = train[train['label'] == 0]\n",
    "\n",
    "# Vectorizer for unigrams (ngram_range=(1,1) for unigrams only)\n",
    "vectorizer = CountVectorizer(ngram_range=(1,1), stop_words='english')\n",
    "\n",
    "# Fit and transform the 'text' column of real news\n",
    "unigrams = vectorizer.fit_transform(Real_news['text'])\n",
    "\n",
    "# Create a DataFrame for the unigrams\n",
    "unigram_df = pd.DataFrame(unigrams.toarray(), columns=vectorizer.get_feature_names_out())\n",
    "\n",
    "# Sum the occurrences of each unigram and get the top 10 most frequent ones\n",
    "unigram_sum = unigram_df.sum().sort_values(ascending=False).head(10)\n",
    "\n",
    "# Plotting the top 10 unigrams\n",
    "unigram_sum.plot(kind='bar', color='green')\n",
    "plt.title('Top 10 Unigrams in Real News')\n",
    "plt.xlabel('Unigrams')\n",
    "plt.ylabel('Frequency')\n",
    "plt.show()\n"
   ]
  },
  {
   "cell_type": "code",
   "execution_count": 26,
   "id": "9383a7ef",
   "metadata": {},
   "outputs": [
    {
     "name": "stdout",
     "output_type": "stream",
     "text": [
      "Top 10 Unigrams:\n",
      "Unigram: 'trump', Frequency: 20147\n",
      "Unigram: 'clinton', Frequency: 19254\n",
      "Unigram: 'people', Frequency: 16598\n",
      "Unigram: 'hillary', Frequency: 12762\n",
      "Unigram: 'said', Frequency: 11875\n",
      "Unigram: 'just', Frequency: 10488\n",
      "Unigram: 'new', Frequency: 10395\n",
      "Unigram: 'like', Frequency: 10319\n",
      "Unigram: 'time', Frequency: 9235\n",
      "Unigram: 'world', Frequency: 9180\n"
     ]
    }
   ],
   "source": [
    "# Printing the top 10 unigrams and their frequencies\n",
    "print(\"Top 10 Unigrams:\")\n",
    "for unigram, frequency in top_10_unigrams:\n",
    "    print(f\"Unigram: '{unigram}', Frequency: {frequency}\")"
   ]
  },
  {
   "cell_type": "code",
   "execution_count": null,
   "id": "f72720b0",
   "metadata": {},
   "outputs": [],
   "source": []
  },
  {
   "cell_type": "code",
   "execution_count": 28,
   "id": "1085ba2e",
   "metadata": {},
   "outputs": [
    {
     "data": {
      "image/png": "[encoded data removed]",
      "text/plain": [
       "<Figure size 432x288 with 1 Axes>"
      ]
     },
     "metadata": {
      "needs_background": "light"
     },
     "output_type": "display_data"
    },
    {
     "name": "stdout",
     "output_type": "stream",
     "text": [
      "Top 10 Unigrams:\n",
      "Unigram: 'trump', Frequency: 20147\n",
      "Unigram: 'clinton', Frequency: 19254\n",
      "Unigram: 'people', Frequency: 16598\n",
      "Unigram: 'hillary', Frequency: 12762\n",
      "Unigram: 'said', Frequency: 11875\n",
      "Unigram: 'just', Frequency: 10488\n",
      "Unigram: 'new', Frequency: 10395\n",
      "Unigram: 'like', Frequency: 10319\n",
      "Unigram: 'time', Frequency: 9235\n",
      "Unigram: 'world', Frequency: 9180\n"
     ]
    }
   ],
   "source": [
    "from sklearn.feature_extraction.text import CountVectorizer\n",
    "import matplotlib.pyplot as plt\n",
    "import numpy as np\n",
    "\n",
    "# Separate fake news\n",
    "Fake_news = train[train['label'] == 1]\n",
    "\n",
    "# Vectorizer for unigrams (ngram_range=(1,1) for unigrams only)\n",
    "vectorizer = CountVectorizer(ngram_range=(1,1), stop_words='english')\n",
    "\n",
    "# Fit and transform the 'text' column of fake news\n",
    "unigrams = vectorizer.fit_transform(Fake_news['text'])\n",
    "\n",
    "# Sum the occurrences of each unigram without converting to a dense matrix\n",
    "unigram_sum = np.array(unigrams.sum(axis=0)).flatten()\n",
    "\n",
    "# Get the unigram feature names and their corresponding frequencies\n",
    "unigram_frequencies = [(word, unigram_sum[idx]) for word, idx in vectorizer.vocabulary_.items()]\n",
    "\n",
    "# Sort by frequency and select the top 10 unigrams\n",
    "top_10_unigrams = sorted(unigram_frequencies, key=lambda x: x[1], reverse=True)[:10]\n",
    "\n",
    "# Convert top 10 unigrams to a DataFrame for easy plotting\n",
    "top_unigrams_df = pd.DataFrame(top_10_unigrams, columns=['Unigram', 'Frequency'])\n",
    "\n",
    "# Plotting the top 10 unigrams\n",
    "top_unigrams_df.plot(kind='bar', x='Unigram', y='Frequency', color='red', legend=False)\n",
    "plt.title('Top 10 Unigrams in Fake News')\n",
    "plt.xlabel('Unigrams')\n",
    "plt.ylabel('Frequency')\n",
    "plt.show()\n",
    "\n",
    "\n",
    "print(\"Top 10 Unigrams:\")\n",
    "for unigram, frequency in top_10_unigrams:\n",
    "    print(f\"Unigram: '{unigram}', Frequency: {frequency}\")"
   ]
  },
  {
   "cell_type": "code",
   "execution_count": null,
   "id": "9f2ad47d",
   "metadata": {},
   "outputs": [],
   "source": [
    "\n"
   ]
  },
  {
   "cell_type": "code",
   "execution_count": 49,
   "id": "c308c9dd",
   "metadata": {},
   "outputs": [
    {
     "data": {
      "image/png": "[encoded data removed]",
      "text/plain": [
       "<Figure size 720x432 with 1 Axes>"
      ]
     },
     "metadata": {
      "needs_background": "light"
     },
     "output_type": "display_data"
    },
    {
     "name": "stdout",
     "output_type": "stream",
     "text": [
      "Bigram: 'hillary clinton', Frequency: 6802\n",
      "Bigram: 'donald trump', Frequency: 4972\n",
      "Bigram: 'united states', Frequency: 3954\n",
      "Bigram: 'white house', Frequency: 2152\n",
      "Bigram: 'new york', Frequency: 2060\n",
      "Bigram: 'clinton campaign', Frequency: 1377\n",
      "Bigram: 'november 2016', Frequency: 1193\n",
      "Bigram: 'secretary state', Frequency: 1180\n",
      "Bigram: 'clinton foundation', Frequency: 1156\n",
      "Bigram: 'foreign policy', Frequency: 1024\n"
     ]
    }
   ],
   "source": [
    "from sklearn.feature_extraction.text import CountVectorizer\n",
    "import matplotlib.pyplot as plt\n",
    "\n",
    "# Initialize the CountVectorizer for bigrams\n",
    "vectorizer = CountVectorizer(ngram_range=(2, 2), stop_words='english')\n",
    "\n",
    "# Fit and transform the fake news text to get the bigrams\n",
    "bigrams = vectorizer.fit_transform(Fake_news['text'])  # Assuming Fake_news is your dataset\n",
    "\n",
    "# Sum the occurrences of each bigram\n",
    "bigram_sum = bigrams.sum(axis=0)\n",
    "\n",
    "# Get the bigram feature names and their corresponding counts\n",
    "bigram_freq = [(bigram, bigram_sum[0, idx]) for bigram, idx in vectorizer.vocabulary_.items()]\n",
    "\n",
    "# Sort the bigrams by frequency and get the top 10\n",
    "top_10_bigrams = sorted(bigram_freq, key=lambda x: x[1], reverse=True)[:10]\n",
    "\n",
    "# Extract bigram labels and their corresponding frequencies for plotting\n",
    "bigram_labels = [bigram for bigram, freq in top_10_bigrams]\n",
    "bigram_frequencies = [freq for bigram, freq in top_10_bigrams]\n",
    "\n",
    "# Plot the top 10 bigrams\n",
    "plt.figure(figsize=(10, 6))\n",
    "plt.barh(bigram_labels, bigram_frequencies, color='red')\n",
    "plt.title('Top 10 Bigrams in Fake News')\n",
    "plt.xlabel('Frequency')\n",
    "plt.gca().invert_yaxis()  # Invert y-axis to have the highest frequency at the top\n",
    "plt.tight_layout()\n",
    "plt.show()\n",
    "\n",
    "# Print the top 10 bigrams\n",
    "for bigram, frequency in top_10_bigrams:\n",
    "    print(f\"Bigram: '{bigram}', Frequency: {frequency}\")\n"
   ]
  },
  {
   "cell_type": "code",
   "execution_count": 51,
   "id": "6e2cada7",
   "metadata": {},
   "outputs": [
    {
     "data": {
      "image/png": "[encoded data removed]",
      "text/plain": [
       "<Figure size 720x432 with 1 Axes>"
      ]
     },
     "metadata": {
      "needs_background": "light"
     },
     "output_type": "display_data"
    },
    {
     "name": "stdout",
     "output_type": "stream",
     "text": [
      "Bigram: 'mr trump', Frequency: 16948\n",
      "Bigram: 'united states', Frequency: 8417\n",
      "Bigram: 'new york', Frequency: 6521\n",
      "Bigram: 'donald trump', Frequency: 4490\n",
      "Bigram: 'mrs clinton', Frequency: 4008\n",
      "Bigram: 'white house', Frequency: 3931\n",
      "Bigram: 'said mr', Frequency: 2654\n",
      "Bigram: 'mr obama', Frequency: 2462\n",
      "Bigram: 'president trump', Frequency: 2294\n",
      "Bigram: 'york times', Frequency: 1981\n"
     ]
    }
   ],
   "source": [
    "# Initialize the CountVectorizer for bigrams\n",
    "vectorizer_real = CountVectorizer(ngram_range=(2, 2), stop_words='english')\n",
    "\n",
    "# Fit and transform the real news text to get the bigrams\n",
    "bigrams_real = vectorizer_real.fit_transform(Real_news['text'])  # Assuming Real_news is your dataset\n",
    "\n",
    "# Sum the occurrences of each bigram\n",
    "bigram_sum_real = bigrams_real.sum(axis=0)\n",
    "\n",
    "# Get the bigram feature names and their corresponding counts\n",
    "bigram_freq_real = [(bigram, bigram_sum_real[0, idx]) for bigram, idx in vectorizer_real.vocabulary_.items()]\n",
    "\n",
    "# Sort the bigrams by frequency and get the top 10\n",
    "top_10_bigrams_real = sorted(bigram_freq_real, key=lambda x: x[1], reverse=True)[:10]\n",
    "\n",
    "# Extract bigram labels and their corresponding frequencies for plotting\n",
    "bigram_labels_real = [bigram for bigram, freq in top_10_bigrams_real]\n",
    "bigram_frequencies_real = [freq for bigram, freq in top_10_bigrams_real]\n",
    "\n",
    "# Plot the top 10 bigrams for real news\n",
    "plt.figure(figsize=(10, 6))\n",
    "plt.barh(bigram_labels_real, bigram_frequencies_real, color='blue')\n",
    "plt.title('Top 10 Bigrams in Real News')\n",
    "plt.xlabel('Frequency')\n",
    "plt.gca().invert_yaxis()  # Invert y-axis to have the highest frequency at the top\n",
    "plt.tight_layout()\n",
    "plt.show()\n",
    "\n",
    "# Print the top 10 bigrams for real news\n",
    "for bigram, frequency in top_10_bigrams_real:\n",
    "    print(f\"Bigram: '{bigram}', Frequency: {frequency}\")\n"
   ]
  },
  {
   "cell_type": "code",
   "execution_count": 46,
   "id": "4fffc073",
   "metadata": {},
   "outputs": [
    {
     "data": {
      "image/png": "[encoded data removed]",
      "text/plain": [
       "<Figure size 432x288 with 1 Axes>"
      ]
     },
     "metadata": {
      "needs_background": "light"
     },
     "output_type": "display_data"
    }
   ],
   "source": [
    "from sklearn.feature_extraction.text import CountVectorizer\n",
    "import pandas as pd\n",
    "import matplotlib.pyplot as plt\n",
    "import numpy as np\n",
    "\n",
    "# Initialize the CountVectorizer for trigrams\n",
    "vectorizer = CountVectorizer(ngram_range=(3, 3), stop_words='english')\n",
    "\n",
    "# Fit and transform the text data from Fake_news\n",
    "trigrams = vectorizer.fit_transform(Fake_news['text'])\n",
    "\n",
    "# Get the sum of each trigram (working directly with the sparse matrix)\n",
    "trigram_sums = np.array(trigrams.sum(axis=0)).flatten()\n",
    "\n",
    "# Get the top 10 trigrams\n",
    "trigram_indices = trigram_sums.argsort()[::-1][:10]\n",
    "top_trigrams = [vectorizer.get_feature_names_out()[i] for i in trigram_indices]\n",
    "top_trigram_counts = trigram_sums[trigram_indices]\n",
    "\n",
    "# Plot the top 10 trigrams\n",
    "plt.barh(top_trigrams, top_trigram_counts, color='red')\n",
    "plt.title('Top 10 Trigrams in Fake News')\n",
    "plt.xlabel('Frequency')\n",
    "plt.gca().invert_yaxis()  # Invert y-axis to have the highest frequency at the top\n",
    "plt.tight_layout()\n",
    "plt.show()\n",
    "\n",
    "\n"
   ]
  },
  {
   "cell_type": "code",
   "execution_count": 33,
   "id": "8e111327",
   "metadata": {},
   "outputs": [
    {
     "data": {
      "image/png": "[encoded data removed]",
      "text/plain": [
       "<Figure size 432x288 with 1 Axes>"
      ]
     },
     "metadata": {
      "needs_background": "light"
     },
     "output_type": "display_data"
    }
   ],
   "source": [
    "from sklearn.feature_extraction.text import CountVectorizer\n",
    "import pandas as pd\n",
    "import matplotlib.pyplot as plt\n",
    "import numpy as np\n",
    "\n",
    "# Initialize the CountVectorizer for trigrams\n",
    "vectorizer = CountVectorizer(ngram_range=(3, 3), stop_words='english')\n",
    "\n",
    "# Fit and transform the text data from Real_news\n",
    "trigrams = vectorizer.fit_transform(Real_news['text'])\n",
    "\n",
    "# Get the sum of each trigram (working directly with the sparse matrix)\n",
    "trigram_sums = np.array(trigrams.sum(axis=0)).flatten()\n",
    "\n",
    "# Get the top 10 trigrams\n",
    "trigram_indices = trigram_sums.argsort()[::-1][:10]\n",
    "top_trigrams = [vectorizer.get_feature_names_out()[i] for i in trigram_indices]\n",
    "top_trigram_counts = trigram_sums[trigram_indices]\n",
    "\n",
    "# Plot the top 10 trigrams\n",
    "plt.barh(top_trigrams, top_trigram_counts, color='green')\n",
    "plt.title('Top 10 Trigrams in Real News')\n",
    "plt.xlabel('Frequency')\n",
    "plt.gca().invert_yaxis()  # Invert y-axis to have the highest frequency at the top\n",
    "plt.tight_layout()\n",
    "plt.show()\n"
   ]
  },
  {
   "cell_type": "markdown",
   "id": "e5c2a879",
   "metadata": {},
   "source": [
    "# Model and Training "
   ]
  },
  {
   "cell_type": "markdown",
   "id": "d8d2213e",
   "metadata": {},
   "source": [
    "GRU Model\n",
    "For this project, we will use a GRU-based neural network, which is known for efficiently processing sequences like text data.\n",
    "\n",
    "Model Architecture\n",
    "We will build a GRU-based neural network with the following structure:\n",
    "\n",
    "Embedding layer: To convert tokens into dense vectors of fixed size.\n",
    "\n",
    "GRU layer: To capture dependencies in the sequence.\n",
    "\n",
    "Dense layer with sigmoid activation: For binary classification."
   ]
  },
  {
   "cell_type": "code",
   "execution_count": 44,
   "id": "1b87eaf8",
   "metadata": {},
   "outputs": [
    {
     "name": "stderr",
     "output_type": "stream",
     "text": [
      "[nltk_data] Downloading package stopwords to C:\\Users\\Tanya\n",
      "[nltk_data]     Shoma\\AppData\\Roaming\\nltk_data...\n",
      "[nltk_data]   Package stopwords is already up-to-date!\n",
      "C:\\conda_tmp\\ipykernel_37068\\1080551121.py:29: SettingWithCopyWarning: \n",
      "A value is trying to be set on a copy of a slice from a DataFrame.\n",
      "Try using .loc[row_indexer,col_indexer] = value instead\n",
      "\n",
      "See the caveats in the documentation: https://pandas.pydata.org/pandas-docs/stable/user_guide/indexing.html#returning-a-view-versus-a-copy\n",
      "  train['cleaned_text'] = train['text'].apply(clean_text)\n",
      "C:\\conda_tmp\\ipykernel_37068\\1080551121.py:30: SettingWithCopyWarning: \n",
      "A value is trying to be set on a copy of a slice from a DataFrame.\n",
      "Try using .loc[row_indexer,col_indexer] = value instead\n",
      "\n",
      "See the caveats in the documentation: https://pandas.pydata.org/pandas-docs/stable/user_guide/indexing.html#returning-a-view-versus-a-copy\n",
      "  test['cleaned_text'] = test['text'].apply(clean_text)\n",
      "C:\\Users\\Tanya Shoma\\AppData\\Roaming\\Python\\Python39\\site-packages\\keras\\src\\layers\\core\\embedding.py:90: UserWarning: Argument `input_length` is deprecated. Just remove it.\n",
      "  warnings.warn(\n"
     ]
    },
    {
     "name": "stdout",
     "output_type": "stream",
     "text": [
      "Epoch 1/5\n",
      "\u001b[1m260/260\u001b[0m \u001b[32m━━━━━━━━━━━━━━━━━━━━\u001b[0m\u001b[37m\u001b[0m \u001b[1m43s\u001b[0m 148ms/step - accuracy: 0.7573 - loss: 0.4787 - val_accuracy: 0.8625 - val_loss: 0.3220\n",
      "Epoch 2/5\n",
      "\u001b[1m260/260\u001b[0m \u001b[32m━━━━━━━━━━━━━━━━━━━━\u001b[0m\u001b[37m\u001b[0m \u001b[1m40s\u001b[0m 153ms/step - accuracy: 0.9073 - loss: 0.2406 - val_accuracy: 0.9083 - val_loss: 0.2359\n",
      "Epoch 3/5\n",
      "\u001b[1m260/260\u001b[0m \u001b[32m━━━━━━━━━━━━━━━━━━━━\u001b[0m\u001b[37m\u001b[0m \u001b[1m48s\u001b[0m 183ms/step - accuracy: 0.9362 - loss: 0.1803 - val_accuracy: 0.9083 - val_loss: 0.2323\n",
      "Epoch 4/5\n",
      "\u001b[1m260/260\u001b[0m \u001b[32m━━━━━━━━━━━━━━━━━━━━\u001b[0m\u001b[37m\u001b[0m \u001b[1m48s\u001b[0m 183ms/step - accuracy: 0.9517 - loss: 0.1356 - val_accuracy: 0.9083 - val_loss: 0.2314\n",
      "Epoch 5/5\n",
      "\u001b[1m260/260\u001b[0m \u001b[32m━━━━━━━━━━━━━━━━━━━━\u001b[0m\u001b[37m\u001b[0m \u001b[1m41s\u001b[0m 157ms/step - accuracy: 0.9591 - loss: 0.1205 - val_accuracy: 0.9201 - val_loss: 0.2131\n",
      "\u001b[1m130/130\u001b[0m \u001b[32m━━━━━━━━━━━━━━━━━━━━\u001b[0m\u001b[37m\u001b[0m \u001b[1m4s\u001b[0m 32ms/step\n",
      "              precision    recall  f1-score   support\n",
      "\n",
      "     Class 0       0.91      0.93      0.92      2079\n",
      "     Class 1       0.93      0.91      0.92      2074\n",
      "\n",
      "    accuracy                           0.92      4153\n",
      "   macro avg       0.92      0.92      0.92      4153\n",
      "weighted avg       0.92      0.92      0.92      4153\n",
      "\n"
     ]
    }
   ],
   "source": [
    "import pandas as pd\n",
    "import re\n",
    "import nltk\n",
    "import tensorflow as tf\n",
    "from nltk.corpus import stopwords\n",
    "from tensorflow.keras.preprocessing.text import Tokenizer\n",
    "from tensorflow.keras.preprocessing.sequence import pad_sequences\n",
    "from tensorflow.keras.models import Sequential\n",
    "from tensorflow.keras.layers import Embedding, GRU, Dense, Dropout\n",
    "from sklearn.model_selection import train_test_split\n",
    "from sklearn.metrics import accuracy_score, precision_score, recall_score, f1_score\n",
    "from sklearn.metrics import classification_report\n",
    "\n",
    "nltk.download('stopwords')\n",
    "stop_words = set(stopwords.words('english'))\n",
    "\n",
    "\n",
    "\n",
    "# Text preprocessing function\n",
    "def clean_text(text):\n",
    "    text = text.lower()\n",
    "    text = re.sub(r'http\\S+', '', text)  # Remove URLs\n",
    "    text = re.sub(r'@\\w+', '', text)  # Remove mentions\n",
    "    text = re.sub(r'#', '', text)  # Remove hashtags\n",
    "    text = re.sub(r'[^\\w\\s]', '', text)  # Remove punctuation\n",
    "    return text\n",
    "\n",
    "# Apply cleaning function to training and test data\n",
    "train['cleaned_text'] = train['text'].apply(clean_text)\n",
    "test['cleaned_text'] = test['text'].apply(clean_text)\n",
    "\n",
    "# Tokenize the text\n",
    "tokenizer = Tokenizer(num_words=10000, oov_token='<OOV>')\n",
    "tokenizer.fit_on_texts(train['cleaned_text'])\n",
    "\n",
    "# Convert text to sequences\n",
    "X_train_sequences = tokenizer.texts_to_sequences(train['cleaned_text'])\n",
    "X_test_sequences = tokenizer.texts_to_sequences(test['cleaned_text'])\n",
    "\n",
    "# Pad sequences to ensure equal length\n",
    "X_train_padded = pad_sequences(X_train_sequences, maxlen=100, padding='post')\n",
    "X_test_padded = pad_sequences(X_test_sequences, maxlen=100, padding='post')\n",
    "\n",
    "# Target variable (disaster or non-disaster)\n",
    "y_train = train['label']\n",
    "\n",
    "# Train-test split (for model validation purposes)\n",
    "X_train, X_val, y_train, y_val = train_test_split(X_train_padded, y_train, test_size=0.2, random_state=42)\n",
    "\n",
    "# Build the GRU model\n",
    "model = Sequential()\n",
    "model.add(Embedding(input_dim=10000, output_dim=128, input_length=100))\n",
    "model.add(GRU(units=128, return_sequences=False))\n",
    "model.add(Dropout(0.3))\n",
    "model.add(Dense(1, activation='sigmoid'))\n",
    "\n",
    "# Compile the model\n",
    "model.compile(optimizer='RMSprop', loss='binary_crossentropy', metrics=['accuracy'])\n",
    "\n",
    "# Train the model\n",
    "history = model.fit(X_train, y_train, epochs=5, batch_size=64, validation_data=(X_val, y_val))\n",
    "\n",
    "\n",
    "\n",
    "# Make predictions on the validation set\n",
    "y_val_pred_probs = model.predict(X_val)\n",
    "\n",
    "# Convert probabilities to binary values (0 or 1)\n",
    "y_val_pred = (y_val_pred_probs > 0.5).astype(int).flatten()\n",
    "\n",
    "# Generate the classification report\n",
    "report = classification_report(y_val, y_val_pred, target_names=['Class 0', 'Class 1'])\n",
    "print(report)\n",
    "\n",
    "\n",
    "\n"
   ]
  },
  {
   "cell_type": "code",
   "execution_count": 41,
   "id": "6239d7e5",
   "metadata": {},
   "outputs": [
    {
     "name": "stdout",
     "output_type": "stream",
     "text": [
      "\u001b[1m163/163\u001b[0m \u001b[32m━━━━━━━━━━━━━━━━━━━━\u001b[0m\u001b[37m\u001b[0m \u001b[1m3s\u001b[0m 20ms/step\n",
      "Submission file created: submission.csv\n"
     ]
    }
   ],
   "source": [
    "import pandas as pd\n",
    "\n",
    "# Make predictions on the test set\n",
    "predictions = model.predict(X_test_padded)\n",
    "# Convert probabilities to binary values (0 or 1)\n",
    "predicted_labels = (predictions > 0.5).astype(int).flatten()\n",
    "\n",
    "# Create a DataFrame for submission\n",
    "submission_df = pd.DataFrame({\n",
    "    'id': test['id'],  \n",
    "    'label': predicted_labels\n",
    "})\n",
    "\n",
    "# Save the DataFrame to a CSV file\n",
    "submission_df.to_csv('submission.csv', index=False)\n",
    "\n",
    "print(\"Submission file created: submission.csv\")"
   ]
  },
  {
   "cell_type": "code",
   "execution_count": null,
   "id": "0283c7b0",
   "metadata": {},
   "outputs": [],
   "source": [
    "\n"
   ]
  },
  {
   "cell_type": "markdown",
   "id": "d1064027",
   "metadata": {},
   "source": [
    "# Results and Discussion"
   ]
  },
  {
   "cell_type": "markdown",
   "id": "ab7df0a7",
   "metadata": {},
   "source": [
    "In this study, we evaluated GRU models for classifying news into fake news and legit (Real) news categories. The implementations of GRU resulted in high accuracy, approximately 0.91. \n",
    "The classification report reveals the precision, recall, and F1-scores for both classes:\n",
    "\n",
    "| Class                      | Precision | Recall | F1-Score |\n",
    "|----------------------------|-----------|--------|----------|\n",
    "| Real News (Class 0)         | 0.91     | 0.93   | 0.92    |\n",
    "| Fake News (Class 1)         | 0.93      | 0.91  | 0.92     |\n",
    "\n",
    "\n",
    "The precision score indicates that when the model predicts a news as legit, it is correct 91% of the time. The recall score of 93% for class 0 suggests that the model successfully identifies 93% of actual legit news. For class 1, the precision is  at 93%, the recall is 91%, indicating that the model has high performance in identifying fake news.\n",
    "\n",
    "The weighted average F1-score of 0.91 reflects a balanced performance across both classes, reinforcing that the GRU model effectively captures the nuances in the dataset. "
   ]
  },
  {
   "cell_type": "markdown",
   "id": "b850a6f8",
   "metadata": {},
   "source": [
    "# Conclusion"
   ]
  },
  {
   "cell_type": "markdown",
   "id": "ddb63fe6",
   "metadata": {},
   "source": [
    "In this project, we built a GRU-based neural network to classify fakenews. The GRU model was chosen due to its efficiency in processing short sequences. After conducting exploratory data analysis, we preprocessed the text data, tokenized it, and padded sequences to make them uniform. The GRU model demonstrated good performance in classifying tweets, as evident from the validation results. "
   ]
  },
  {
   "cell_type": "markdown",
   "id": "115e3197",
   "metadata": {},
   "source": [
    "# GITHUB Link: \n",
    "    \n",
    "the project can be found on the following link: https://github.com/TanyaShoma/GRU_Fake_News."
   ]
  },
  {
   "cell_type": "code",
   "execution_count": null,
   "id": "912f5f19",
   "metadata": {},
   "outputs": [],
   "source": []
  }
 ],
 "metadata": {
  "kernelspec": {
   "display_name": "Python 3 (ipykernel)",
   "language": "python",
   "name": "python3"
  },
  "language_info": {
   "codemirror_mode": {
    "name": "ipython",
    "version": 3
   },
   "file_extension": ".py",
   "mimetype": "text/x-python",
   "name": "python",
   "nbconvert_exporter": "python",
   "pygments_lexer": "ipython3",
   "version": "3.9.12"
  }
 },
 "nbformat": 4,
 "nbformat_minor": 5
}
